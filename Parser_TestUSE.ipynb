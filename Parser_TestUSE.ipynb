{
 "cells": [
  {
   "cell_type": "code",
   "execution_count": null,
   "metadata": {},
   "outputs": [],
   "source": [
    "from PIL import Image\n",
    "import os\n",
    "import csv\n",
    "from pdf2image import convert_from_path\n",
    "\n",
    "\n",
    "#Recorrer los ficheros PDF del directorio\n",
    "folder_path = 'Resources/USE'\n",
    "files_in_folder = os.listdir(folder_path)\n",
    "# Filtrar los archivos que son PDF\n",
    "pdf_files = [archivo for archivo in files_in_folder if archivo.lower().endswith('.pdf')]\n",
    "# Convertir los PDF a imagenes\n",
    "tests = []\n",
    "for file in pdf_files:\n",
    "    pdf_path = os.path.join(folder_path, file)\n",
    "    images = convert_from_path(pdf_path,poppler_path='poppler-24.02.0/Library/bin')   \n",
    "    #Meter en grupos de 2 en el array y convertir a escala grises\n",
    "    for i in range(0, len(images), 2):\n",
    "        resized_image_1 = images[i].resize((images[i].width * 2, images[i].height * 2))\n",
    "        resized_image_2 = images[i+1].resize((images[i+1].width * 2, images[i+1].height * 2))\n",
    "        tests.append([resized_image_1.convert('L'),resized_image_2.convert('L')])\n",
    "\n",
    "\n",
    "# Definir la posición y tamaño de la región a recortar donde estan las respuestas\n",
    "xDistanceBetweenBoxes = 2143 - 2034\n",
    "xPosition = 2034\n",
    "naAnswerXPosition = 3015\n",
    "yPositionsByPage = [[1785,1880,1980,2073,2244,2418,2516,2610,2802,2897,2990,3089,3258,3356,3454,3550,3648,3745,3840,4025,4125,4222,4319],\n",
    "                    [194,292,388,482,579,676,771]]\n",
    "\n",
    "singleBoxWidth = 50\n",
    "singleBoxHeight = 50\n",
    "\n",
    "final_answers = []\n",
    "\n",
    "# # Iterar sobre cada las imagenes de cada test realizado\n",
    "for test in tests:   \n",
    "    page_1 = test[0]\n",
    "    page_2 = test[1]    \n",
    "   \n",
    "    #Obtener las cajas con las respuestas para cada pagina\n",
    "    answerBoxesPage1 = [[page_1.crop((xPosition + xDistanceBetweenBoxes*i, yPosition, xPosition + xDistanceBetweenBoxes*i + singleBoxWidth, yPosition + singleBoxHeight)) if i < 7 else \n",
    "                         page_1.crop((naAnswerXPosition, yPosition, naAnswerXPosition + singleBoxWidth, yPosition + singleBoxHeight)) for i in range(8)] for yPosition in yPositionsByPage[0]]\n",
    "    answerBoxesPage2 = [[page_2.crop((xPosition + xDistanceBetweenBoxes*i, yPosition, xPosition + xDistanceBetweenBoxes*i + singleBoxWidth, yPosition + singleBoxHeight)) if i < 7 else \n",
    "                         page_2.crop((naAnswerXPosition, yPosition, naAnswerXPosition + singleBoxWidth, yPosition + singleBoxHeight)) for i in range(8)] for yPosition in yPositionsByPage[1]]\n",
    "    answerBoxes = answerBoxesPage1 + answerBoxesPage2   \n",
    "\n",
    "    #Calcular el sumatorio de pixeles de cada caja\n",
    "    answersPixelSum = []\n",
    "    for i in range(len(answerBoxes)):\n",
    "        temp_list = []\n",
    "        for j in range(len(answerBoxes[i])):\n",
    "            temp_list.append(sum(answerBoxes[i][j].getdata()))\n",
    "        answersPixelSum.append(temp_list)\n",
    "\n",
    "    #Obtener la respuesta usando el minimo de la suma de pixeles como la respuesta seleccionada  \n",
    "    correctAnswers = [answer.index(min(answer)) + 1 for answer in answersPixelSum]   \n",
    "    final_answers.append(correctAnswers)\n",
    "  \n",
    "   \n",
    "\n",
    "\n"
   ]
  },
  {
   "cell_type": "code",
   "execution_count": null,
   "metadata": {},
   "outputs": [],
   "source": [
    "# Guardar los datos en un CSV\n",
    "csv_file_path = 'Results/USEResults.csv'\n",
    "\n",
    "# Write the data to the CSV file\n",
    "with open(csv_file_path, 'w', newline='') as file:\n",
    "    writer = csv.writer(file)\n",
    "    writer.writerows(final_answers)"
   ]
  },
  {
   "cell_type": "code",
   "execution_count": null,
   "metadata": {},
   "outputs": [],
   "source": [
    "# Calculo de estadisticas\n",
    "question_answers = list(zip(*final_answers))\n",
    "na_count_values = sum([sum([1 for x in row if x == 8]) for row in question_answers])\n",
    "questions_answers_without_na = [[x for x in question if x !=8] for question in question_answers] \n",
    "\n",
    "avg_question = [sum(x)/len(x) for x in questions_answers_without_na]\n",
    "global_avg = sum(avg_question)/len(avg_question)\n",
    "\n",
    "print(\"Número de preguntas sin respuesta: \", na_count_values)\n",
    "print(\"Puntuación media por pregunta: \", avg_question)\n",
    "print(\"Puntuación media global: \", global_avg)\n"
   ]
  },
  {
   "cell_type": "code",
   "execution_count": null,
   "metadata": {},
   "outputs": [],
   "source": [
    "#Show the data using matplotlib\n",
    "import matplotlib.pyplot as plt\n",
    "\n",
    "plt.plot(avg_question)\n",
    "plt.axhline(y=global_avg, color='r', linestyle='-')\n",
    "plt.xlabel('Pregunta')\n",
    "plt.ylabel('Puntuación media')\n",
    "plt.title('Puntuación media por pregunta')\n",
    "plt.show()"
   ]
  }
 ],
 "metadata": {
  "kernelspec": {
   "display_name": "env",
   "language": "python",
   "name": "python3"
  },
  "language_info": {
   "codemirror_mode": {
    "name": "ipython",
    "version": 3
   },
   "file_extension": ".py",
   "mimetype": "text/x-python",
   "name": "python",
   "nbconvert_exporter": "python",
   "pygments_lexer": "ipython3",
   "version": "3.9.13"
  }
 },
 "nbformat": 4,
 "nbformat_minor": 2
}
